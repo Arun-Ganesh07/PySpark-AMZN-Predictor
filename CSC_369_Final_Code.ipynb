{
  "nbformat": 4,
  "nbformat_minor": 0,
  "metadata": {
    "colab": {
      "name": "CSC-369-Final-Code.ipynb",
      "provenance": [],
      "collapsed_sections": []
    },
    "kernelspec": {
      "name": "python3",
      "display_name": "Python 3"
    },
    "language_info": {
      "name": "python"
    }
  },
  "cells": [
    {
      "cell_type": "markdown",
      "source": [
        "Arun Ganesh \\\n",
        "Final Code \\\n",
        "CSC 369 \n"
      ],
      "metadata": {
        "id": "-X1nUMCZ-DX-"
      }
    },
    {
      "cell_type": "markdown",
      "source": [
        "# Amazon Product Recommender with ALS model and PySpark\n",
        "\n",
        "\n",
        "\n",
        "---\n",
        "\n"
      ],
      "metadata": {
        "id": "hFITYhFi-Ovp"
      }
    },
    {
      "cell_type": "code",
      "source": [
        "!pip install pyspark\n",
        "!pip install -U -q PyDrive\n",
        "!apt install openjdk-8-jdk-headless -qq\n",
        "import os\n",
        "os.environ[\"JAVA_HOME\"] = \"/usr/lib/jvm/java-8-openjdk-amd64\"\n"
      ],
      "metadata": {
        "colab": {
          "base_uri": "https://localhost:8080/"
        },
        "id": "o3niuAtvp3lC",
        "outputId": "8d205be8-2bfc-4f72-bbd3-77b4a7d5cd7e"
      },
      "execution_count": 50,
      "outputs": [
        {
          "output_type": "stream",
          "name": "stdout",
          "text": [
            "Looking in indexes: https://pypi.org/simple, https://us-python.pkg.dev/colab-wheels/public/simple/\n",
            "Requirement already satisfied: pyspark in /usr/local/lib/python3.7/dist-packages (3.2.1)\n",
            "Requirement already satisfied: py4j==0.10.9.3 in /usr/local/lib/python3.7/dist-packages (from pyspark) (0.10.9.3)\n",
            "openjdk-8-jdk-headless is already the newest version (8u312-b07-0ubuntu1~18.04).\n",
            "The following package was automatically installed and is no longer required:\n",
            "  libnvidia-common-460\n",
            "Use 'apt autoremove' to remove it.\n",
            "0 upgraded, 0 newly installed, 0 to remove and 45 not upgraded.\n"
          ]
        }
      ]
    },
    {
      "cell_type": "code",
      "source": [
        "from pyspark import SparkContext, SparkConf\n",
        "from pyspark.sql import SparkSession, SQLContext\n",
        "from pyspark.sql import types as sparktypes\n",
        "from pyspark.sql.functions import col\n",
        "from pyspark.sql import SparkSession, column\n",
        "spark = SparkSession.builder.appName('rs_evaluator').getOrCreate()"
      ],
      "metadata": {
        "id": "uxYC12swp-qA"
      },
      "execution_count": 51,
      "outputs": []
    },
    {
      "cell_type": "code",
      "source": [
        "import pyspark.sql.functions as F\n",
        "df = spark.read.csv('Amazon_Consumer_Reviews.csv', inferSchema=True, header=True)\n",
        "\n",
        "df = df.withColumn(\"reviews.rating\",F.col('`reviews.rating`').cast(\"integer\"))\n",
        "\n",
        "df.printSchema()\n"
      ],
      "metadata": {
        "colab": {
          "base_uri": "https://localhost:8080/"
        },
        "id": "MhalnWBPp0G-",
        "outputId": "5e8aece8-aa38-4e13-99a2-4266af0ae045"
      },
      "execution_count": 52,
      "outputs": [
        {
          "output_type": "stream",
          "name": "stdout",
          "text": [
            "root\n",
            " |-- id: string (nullable = true)\n",
            " |-- dateAdded: timestamp (nullable = true)\n",
            " |-- dateUpdated: timestamp (nullable = true)\n",
            " |-- name: string (nullable = true)\n",
            " |-- asins: string (nullable = true)\n",
            " |-- brand: string (nullable = true)\n",
            " |-- categories: string (nullable = true)\n",
            " |-- primaryCategories: string (nullable = true)\n",
            " |-- imageURLs: string (nullable = true)\n",
            " |-- keys: string (nullable = true)\n",
            " |-- manufacturer: string (nullable = true)\n",
            " |-- manufacturerNumber: string (nullable = true)\n",
            " |-- reviews.date: string (nullable = true)\n",
            " |-- reviews.dateAdded: string (nullable = true)\n",
            " |-- reviews.dateSeen: string (nullable = true)\n",
            " |-- reviews.doRecommend: string (nullable = true)\n",
            " |-- reviews.id: string (nullable = true)\n",
            " |-- reviews.numHelpful: string (nullable = true)\n",
            " |-- reviews.rating: integer (nullable = true)\n",
            " |-- reviews.sourceURLs: string (nullable = true)\n",
            " |-- reviews.text: string (nullable = true)\n",
            " |-- reviews.title: string (nullable = true)\n",
            " |-- reviews.username: string (nullable = true)\n",
            " |-- sourceURLs: string (nullable = true)\n",
            "\n"
          ]
        }
      ]
    },
    {
      "cell_type": "code",
      "source": [
        "import re\n",
        "from pyspark.sql.functions import col\n",
        "def rename_cols(df):\n",
        "    for column in df.columns:\n",
        "        new_column = column.replace('.','')\n",
        "        df = df.withColumnRenamed(column, new_column)\n",
        "    return df\n",
        "df2 = rename_cols(df)\n",
        "df2.columns\n",
        "\n"
      ],
      "metadata": {
        "colab": {
          "base_uri": "https://localhost:8080/"
        },
        "id": "pN8YbZ5dqj-6",
        "outputId": "b28f090a-2359-4ae9-a5b2-dae9157c2c21"
      },
      "execution_count": 53,
      "outputs": [
        {
          "output_type": "execute_result",
          "data": {
            "text/plain": [
              "['id',\n",
              " 'dateAdded',\n",
              " 'dateUpdated',\n",
              " 'name',\n",
              " 'asins',\n",
              " 'brand',\n",
              " 'categories',\n",
              " 'primaryCategories',\n",
              " 'imageURLs',\n",
              " 'keys',\n",
              " 'manufacturer',\n",
              " 'manufacturerNumber',\n",
              " 'reviewsdate',\n",
              " 'reviewsdateAdded',\n",
              " 'reviewsdateSeen',\n",
              " 'reviewsdoRecommend',\n",
              " 'reviewsid',\n",
              " 'reviewsnumHelpful',\n",
              " 'reviewsrating',\n",
              " 'reviewssourceURLs',\n",
              " 'reviewstext',\n",
              " 'reviewstitle',\n",
              " 'reviewsusername',\n",
              " 'sourceURLs']"
            ]
          },
          "metadata": {},
          "execution_count": 53
        }
      ]
    },
    {
      "cell_type": "code",
      "source": [
        "df3 = df2.select('reviewsusername', 'id', 'reviewsrating')\n",
        "df3.groupBy('reviewsusername').count().orderBy('count', ascending=False).show(10)"
      ],
      "metadata": {
        "colab": {
          "base_uri": "https://localhost:8080/"
        },
        "id": "ecxGaDtOqrAD",
        "outputId": "792749ff-0270-481a-abcf-f2bbfcdef7f4"
      },
      "execution_count": 54,
      "outputs": [
        {
          "output_type": "stream",
          "name": "stdout",
          "text": [
            "+---------------+-----+\n",
            "|reviewsusername|count|\n",
            "+---------------+-----+\n",
            "|           Mike|   22|\n",
            "|          Chris|   11|\n",
            "|           Nick|   10|\n",
            "|           Bill|   10|\n",
            "|           Tony|   10|\n",
            "|          Bobby|    9|\n",
            "|           Dave|    9|\n",
            "|           Rick|    8|\n",
            "|           John|    8|\n",
            "|          Steve|    8|\n",
            "+---------------+-----+\n",
            "only showing top 10 rows\n",
            "\n"
          ]
        }
      ]
    },
    {
      "cell_type": "code",
      "source": [
        "df3.groupBy('reviewsrating').count().orderBy('count', ascending=False).show(20)\n"
      ],
      "metadata": {
        "colab": {
          "base_uri": "https://localhost:8080/"
        },
        "id": "mCoP8k0Hqt81",
        "outputId": "2403fb21-944b-4463-e6d4-6313467193eb"
      },
      "execution_count": 55,
      "outputs": [
        {
          "output_type": "stream",
          "name": "stdout",
          "text": [
            "+-------------+-----+\n",
            "|reviewsrating|count|\n",
            "+-------------+-----+\n",
            "|            5| 2691|\n",
            "|         null| 1049|\n",
            "|            4|  877|\n",
            "|            3|  161|\n",
            "|            0|  108|\n",
            "|            1|   60|\n",
            "|            2|   47|\n",
            "|            9|    1|\n",
            "|           97|    1|\n",
            "|            6|    1|\n",
            "|           12|    1|\n",
            "|            8|    1|\n",
            "|           49|    1|\n",
            "|           13|    1|\n",
            "+-------------+-----+\n",
            "\n"
          ]
        }
      ]
    },
    {
      "cell_type": "code",
      "source": [
        "df_4 = df3.filter(\"reviewsrating != 9 AND reviewsrating != 8 AND reviewsrating != 13 AND reviewsrating != 6 AND reviewsrating != 49 AND reviewsrating != 12\")\n",
        "df_4.select(col(\"reviewsrating\").cast('int').alias(\"reviewsrating\")).printSchema()\n",
        "df_4.show(10)"
      ],
      "metadata": {
        "colab": {
          "base_uri": "https://localhost:8080/"
        },
        "id": "rKQkV7ZQqv-Z",
        "outputId": "1620d493-5bff-4307-e296-7a857431b2e0"
      },
      "execution_count": 56,
      "outputs": [
        {
          "output_type": "stream",
          "name": "stdout",
          "text": [
            "root\n",
            " |-- reviewsrating: integer (nullable = true)\n",
            "\n",
            "+--------------------+--------------------+-------------+\n",
            "|     reviewsusername|                  id|reviewsrating|\n",
            "+--------------------+--------------------+-------------+\n",
            "|           Too small|AVqVGZNvQMlgsOJE6eUY|            0|\n",
            "|Great light reade...|AVqVGZNvQMlgsOJE6eUY|            0|\n",
            "| Great for the price|AVqVGZNvQMlgsOJE6eUY|            0|\n",
            "|         A Great Buy|AVqVGZNvQMlgsOJE6eUY|            3|\n",
            "|Solid entry-level...|AVqVGZNvQMlgsOJE6eUY|            0|\n",
            "|          Good ebook|AVqVGZNvQMlgsOJE6eUY|            0|\n",
            "|Light Weight - Ma...|AVqVGZNvQMlgsOJE6eUY|            0|\n",
            "|    not good quality|AVqVGZNvQMlgsOJE6eUY|            0|\n",
            "|          best ebook|AVqVGZNvQMlgsOJE6eUY|            0|\n",
            "|       Great Product|AVqVGZNvQMlgsOJE6eUY|            0|\n",
            "+--------------------+--------------------+-------------+\n",
            "only showing top 10 rows\n",
            "\n"
          ]
        }
      ]
    },
    {
      "cell_type": "code",
      "source": [
        "from pyspark.sql.functions import *\n",
        "from pyspark.ml.feature import StringIndexer, IndexToString"
      ],
      "metadata": {
        "id": "2U_MQFXvqxX2"
      },
      "execution_count": 57,
      "outputs": []
    },
    {
      "cell_type": "code",
      "source": [
        "string_indexer = StringIndexer(inputCol=\"id\", outputCol=\"id_int\")\n",
        "model = string_indexer.fit(df_4)\n",
        "df_5 = model.transform(df_4)"
      ],
      "metadata": {
        "id": "Jaea-wh_q0fD"
      },
      "execution_count": 58,
      "outputs": []
    },
    {
      "cell_type": "code",
      "source": [
        "df_5.groupBy('id_int').count().orderBy('count', ascending=False).show(10)\n"
      ],
      "metadata": {
        "colab": {
          "base_uri": "https://localhost:8080/"
        },
        "id": "8AM86zs3q2ap",
        "outputId": "b7d1b418-17f7-4f5f-e517-c539f4cac1f0"
      },
      "execution_count": 59,
      "outputs": [
        {
          "output_type": "stream",
          "name": "stdout",
          "text": [
            "+------+-----+\n",
            "|id_int|count|\n",
            "+------+-----+\n",
            "|   0.0|  650|\n",
            "|   1.0|  590|\n",
            "|   2.0|  561|\n",
            "|   3.0|  467|\n",
            "|   4.0|  371|\n",
            "|   5.0|  225|\n",
            "|   6.0|  217|\n",
            "|   7.0|  195|\n",
            "|   8.0|  159|\n",
            "|   9.0|  106|\n",
            "+------+-----+\n",
            "only showing top 10 rows\n",
            "\n"
          ]
        }
      ]
    },
    {
      "cell_type": "code",
      "source": [
        "string_indexer = StringIndexer(inputCol=\"reviewsusername\", outputCol=\"userid\")\n",
        "model = string_indexer.fit(df_5)\n",
        "df6 = model.transform(df_5)\n",
        "df6.select(col(\"reviewsrating\").cast('int').alias(\"reviewsrating\")).printSchema()"
      ],
      "metadata": {
        "colab": {
          "base_uri": "https://localhost:8080/"
        },
        "id": "bXF_3Vptq3pe",
        "outputId": "4740a365-e52c-45c8-ee18-f6ab74107a1c"
      },
      "execution_count": 60,
      "outputs": [
        {
          "output_type": "stream",
          "name": "stdout",
          "text": [
            "root\n",
            " |-- reviewsrating: integer (nullable = true)\n",
            "\n"
          ]
        }
      ]
    },
    {
      "cell_type": "code",
      "source": [
        "from pyspark.sql.types import IntegerType\n",
        "from pyspark.sql.functions import col\n",
        "\n",
        "df6.show(5)\n",
        "df6.select(col(\"reviewsrating\").cast(\"integer\")).printSchema()\n",
        "df6.printSchema()"
      ],
      "metadata": {
        "colab": {
          "base_uri": "https://localhost:8080/"
        },
        "id": "-sg6CYuqq5gq",
        "outputId": "3ab63534-efa3-4052-88d6-c345eb940406"
      },
      "execution_count": 61,
      "outputs": [
        {
          "output_type": "stream",
          "name": "stdout",
          "text": [
            "+--------------------+--------------------+-------------+------+------+\n",
            "|     reviewsusername|                  id|reviewsrating|id_int|userid|\n",
            "+--------------------+--------------------+-------------+------+------+\n",
            "|           Too small|AVqVGZNvQMlgsOJE6eUY|            0|  10.0|2418.0|\n",
            "|Great light reade...|AVqVGZNvQMlgsOJE6eUY|            0|  10.0|1262.0|\n",
            "| Great for the price|AVqVGZNvQMlgsOJE6eUY|            0|  10.0|1259.0|\n",
            "|         A Great Buy|AVqVGZNvQMlgsOJE6eUY|            3|  10.0| 586.0|\n",
            "|Solid entry-level...|AVqVGZNvQMlgsOJE6eUY|            0|  10.0|2250.0|\n",
            "+--------------------+--------------------+-------------+------+------+\n",
            "only showing top 5 rows\n",
            "\n",
            "root\n",
            " |-- reviewsrating: integer (nullable = true)\n",
            "\n",
            "root\n",
            " |-- reviewsusername: string (nullable = true)\n",
            " |-- id: string (nullable = true)\n",
            " |-- reviewsrating: integer (nullable = true)\n",
            " |-- id_int: double (nullable = false)\n",
            " |-- userid: double (nullable = false)\n",
            "\n"
          ]
        }
      ]
    },
    {
      "cell_type": "code",
      "source": [
        "train, test = df6.randomSplit([0.75,0.25])\n",
        "train.count()"
      ],
      "metadata": {
        "colab": {
          "base_uri": "https://localhost:8080/"
        },
        "id": "JbH4nnuuq7Sb",
        "outputId": "d7908235-fdd6-4c0f-98f7-a5e32e665a61"
      },
      "execution_count": 62,
      "outputs": [
        {
          "output_type": "execute_result",
          "data": {
            "text/plain": [
              "2917"
            ]
          },
          "metadata": {},
          "execution_count": 62
        }
      ]
    },
    {
      "cell_type": "code",
      "source": [
        "test.count()\n"
      ],
      "metadata": {
        "colab": {
          "base_uri": "https://localhost:8080/"
        },
        "id": "moBPUPRcq9vx",
        "outputId": "4b63d7fb-e27f-44fd-8691-432333fda630"
      },
      "execution_count": 63,
      "outputs": [
        {
          "output_type": "execute_result",
          "data": {
            "text/plain": [
              "1028"
            ]
          },
          "metadata": {},
          "execution_count": 63
        }
      ]
    },
    {
      "cell_type": "code",
      "source": [
        "from pyspark.ml.recommendation import ALS\n",
        "\n",
        "rs_test = ALS(maxIter=10, regParam=0.01, userCol='userid', itemCol='id_int', ratingCol='reviewsrating', nonnegative=True, coldStartStrategy=\"drop\")\n",
        "rs_test = rs_test.fit(train)\n",
        "pred = rs_test.transform(test)"
      ],
      "metadata": {
        "id": "NB_y-duzq_Iv"
      },
      "execution_count": 64,
      "outputs": []
    },
    {
      "cell_type": "code",
      "source": [
        "from pyspark.ml.evaluation import RegressionEvaluator\n",
        "\n",
        "rs_evaluator = RegressionEvaluator(metricName='rmse', predictionCol='prediction', labelCol='reviewsrating')\n",
        "rmse = rs_evaluator.evaluate(pred)\n",
        "print(rmse)"
      ],
      "metadata": {
        "colab": {
          "base_uri": "https://localhost:8080/"
        },
        "id": "MgnPFYjlrBU3",
        "outputId": "b7213ad1-f584-4e9e-a726-4a0712ee3ca0"
      },
      "execution_count": 65,
      "outputs": [
        {
          "output_type": "stream",
          "name": "stdout",
          "text": [
            "1.9527562460622925\n"
          ]
        }
      ]
    },
    {
      "cell_type": "code",
      "source": [
        "# Depending on userid calculate what products will be most suitable for user\n",
        "total = df6.select('id_int').distinct()\n",
        "used = df6.filter(df6['userid'] == 20).select('id_int').distinct()\n",
        "used = used.withColumnRenamed(\"id_int\", \"id_int_used\")\n",
        "joined = total.join(used, total.id_int == used.id_int_used, how='left')\n",
        "news = joined.where(col('id_int_used').isNull()).select(col('id_int')).distinct()\n",
        "news = news.withColumn(\"userid\",lit(int(20)))\n",
        "news.show(5)"
      ],
      "metadata": {
        "colab": {
          "base_uri": "https://localhost:8080/"
        },
        "id": "LCWtZ4ICrFna",
        "outputId": "90024e09-f45a-4208-e656-fdb58d56b2b2"
      },
      "execution_count": 66,
      "outputs": [
        {
          "output_type": "stream",
          "name": "stdout",
          "text": [
            "+------+------+\n",
            "|id_int|userid|\n",
            "+------+------+\n",
            "|  18.0|    20|\n",
            "|   1.0|    20|\n",
            "|   4.0|    20|\n",
            "|   2.0|    20|\n",
            "|  10.0|    20|\n",
            "+------+------+\n",
            "only showing top 5 rows\n",
            "\n"
          ]
        }
      ]
    },
    {
      "cell_type": "code",
      "source": [
        "# Top 5 products for user with ASL model\n",
        "rec = rs_test.transform(news).orderBy('prediction', ascending=False)\n",
        "rec.createOrReplaceTempView('rec')\n",
        "rec_5 = spark.sql('SELECT id_int FROM rec LIMIT 5')\n",
        "prod_id = rec_5.join(df6, rec_5.id_int == df6.id_int, how='left')\n",
        "prod_id.select('id').join(df2, prod_id.id == df2.id, how='left').select('name').distinct().show(truncate = False)"
      ],
      "metadata": {
        "colab": {
          "base_uri": "https://localhost:8080/"
        },
        "id": "5TAwYQpLrIE6",
        "outputId": "a0d1a10f-f11c-46ce-d6fd-bd5ec7b5bde3"
      },
      "execution_count": 67,
      "outputs": [
        {
          "output_type": "stream",
          "name": "stdout",
          "text": [
            "+------------------------------------------------------------------------------------------------+\n",
            "|name                                                                                            |\n",
            "+------------------------------------------------------------------------------------------------+\n",
            "|\"Amazon Kindle E-Reader 6\"\" Wifi (8th Generation                                                |\n",
            "|Amazon Fire TV with 4K Ultra HD and Alexa Voice Remote (Pendant Design) | Streaming Media Player|\n",
            "|Amazon - Kindle Voyage - 4GB - Wi-Fi + 3G - Black                                               |\n",
            "|\"Amazon - Kindle Voyage - 6\"\" - 4GB - Black\"                                                    |\n",
            "|Amazon Tap - Alexa-Enabled Portable Bluetooth Speaker                                           |\n",
            "+------------------------------------------------------------------------------------------------+\n",
            "\n"
          ]
        }
      ]
    }
  ]
}